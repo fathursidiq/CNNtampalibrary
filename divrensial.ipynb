{
  "nbformat": 4,
  "nbformat_minor": 0,
  "metadata": {
    "colab": {
      "private_outputs": true,
      "provenance": [],
      "authorship_tag": "ABX9TyN+ifUabKqCwCzlWxF51rdj",
      "include_colab_link": true
    },
    "kernelspec": {
      "name": "python3",
      "display_name": "Python 3"
    },
    "language_info": {
      "name": "python"
    }
  },
  "cells": [
    {
      "cell_type": "markdown",
      "metadata": {
        "id": "view-in-github",
        "colab_type": "text"
      },
      "source": [
        "<a href=\"https://colab.research.google.com/github/fathursidiq/CNNtampalibrary/blob/main/divrensial.ipynb\" target=\"_parent\"><img src=\"https://colab.research.google.com/assets/colab-badge.svg\" alt=\"Open In Colab\"/></a>"
      ]
    },
    {
      "cell_type": "code",
      "execution_count": null,
      "metadata": {
        "id": "0kriJQXSJZXk"
      },
      "outputs": [],
      "source": [
        "import matplotlib.pyplot as plt\n",
        "class NumericalDifferentiation:\n",
        "    def __init__(self, function, h=1e-5):\n",
        "        self.function = function\n",
        "        self.h = h\n",
        "\n",
        "    def calculate_derivative(self, x):\n",
        "        # Metode numerik untuk menghitung turunan menggunakan perbedaan terpusat\n",
        "        derivative = (self.function(x + self.h) - self.function(x - self.h)) / (2 * self.h)\n",
        "        return derivative\n",
        "\n",
        "# Contoh penggunaan\n",
        "def example_function(x):\n",
        "    return x\n",
        "\n",
        "numerical_diff = NumericalDifferentiation(example_function)\n",
        "\n",
        "r = [2, 2, 3, 2, 1, 2, 2, 3, 4, 1, 3, 1, 3]\n",
        "derivatives = [numerical_diff.calculate_derivative(x) for x in r]\n"
      ]
    },
    {
      "cell_type": "code",
      "source": [
        "plt.plot(r,label='data mentah')\n",
        "plt.plot(derivatives, label='hasil turunan')\n",
        "plt.legend()\n",
        "plt.show()"
      ],
      "metadata": {
        "id": "0dgZ9i7jKT6s"
      },
      "execution_count": null,
      "outputs": []
    }
  ]
}